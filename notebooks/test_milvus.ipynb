{
 "cells": [
  {
   "cell_type": "code",
   "execution_count": 13,
   "id": "45b343d9-40d9-4567-8fc4-14c77dcf6610",
   "metadata": {},
   "outputs": [],
   "source": [
    "from pymilvus import MilvusClient, Collection\n",
    "from llama_index.vector_stores.milvus import MilvusVectorStore\n",
    "import json"
   ]
  },
  {
   "cell_type": "code",
   "execution_count": 14,
   "id": "71f74483-a4a2-4aef-a3be-94bee8f461fb",
   "metadata": {},
   "outputs": [],
   "source": [
    "vector_store_0 = MilvusVectorStore(\n",
    "    uri=\"/Users/Zhiyuan/Project/rag_projects/my-web-novel/cache/db/milvus.db\",\n",
    "    collection_name='create_eval_dataset_collections_hybrid_512'\n",
    ")\n",
    "client_0 = vector_store_0.client"
   ]
  },
  {
   "cell_type": "code",
   "execution_count": 15,
   "id": "74ae0f38-8248-4a09-87ec-ba468457307d",
   "metadata": {},
   "outputs": [
    {
     "data": {
      "text/plain": [
       "['create_eval_dataset_collections',\n",
       " 'create_eval_dataset_collections_hybrid',\n",
       " 'create_eval_dataset_collections_hybrid_512']"
      ]
     },
     "execution_count": 15,
     "metadata": {},
     "output_type": "execute_result"
    }
   ],
   "source": [
    "client_0.list_collections()"
   ]
  },
  {
   "cell_type": "code",
   "execution_count": 16,
   "id": "5631e2bf-546e-4a8b-977a-6a5728bf6ce8",
   "metadata": {},
   "outputs": [
    {
     "data": {
      "text/plain": [
       "{'collection_name': 'create_eval_dataset_collections_hybrid_512',\n",
       " 'auto_id': False,\n",
       " 'num_shards': 0,\n",
       " 'description': '',\n",
       " 'fields': [{'field_id': 100,\n",
       "   'name': 'id',\n",
       "   'description': '',\n",
       "   'type': <DataType.VARCHAR: 21>,\n",
       "   'params': {'max_length': 65535},\n",
       "   'is_primary': True},\n",
       "  {'field_id': 101,\n",
       "   'name': 'embedding',\n",
       "   'description': '',\n",
       "   'type': <DataType.FLOAT_VECTOR: 101>,\n",
       "   'params': {'dim': 512}},\n",
       "  {'field_id': 102,\n",
       "   'name': 'sparse_embedding',\n",
       "   'description': '',\n",
       "   'type': <DataType.SPARSE_FLOAT_VECTOR: 104>,\n",
       "   'params': {}}],\n",
       " 'functions': [],\n",
       " 'aliases': [],\n",
       " 'collection_id': 0,\n",
       " 'consistency_level': 0,\n",
       " 'properties': {},\n",
       " 'num_partitions': 0,\n",
       " 'enable_dynamic_field': True}"
      ]
     },
     "execution_count": 16,
     "metadata": {},
     "output_type": "execute_result"
    }
   ],
   "source": [
    "client_0.describe_collection('create_eval_dataset_collections_hybrid_512')"
   ]
  },
  {
   "cell_type": "code",
   "execution_count": 17,
   "id": "087da698-37b1-439e-8103-53415d2ecd96",
   "metadata": {},
   "outputs": [
    {
     "data": {
      "text/plain": [
       "{'collection_name': 'create_eval_dataset_collections_hybrid',\n",
       " 'auto_id': False,\n",
       " 'num_shards': 0,\n",
       " 'description': '',\n",
       " 'fields': [{'field_id': 100,\n",
       "   'name': 'id',\n",
       "   'description': '',\n",
       "   'type': <DataType.VARCHAR: 21>,\n",
       "   'params': {'max_length': 65535},\n",
       "   'is_primary': True},\n",
       "  {'field_id': 101,\n",
       "   'name': 'embedding',\n",
       "   'description': '',\n",
       "   'type': <DataType.FLOAT_VECTOR: 101>,\n",
       "   'params': {'dim': 1024}},\n",
       "  {'field_id': 102,\n",
       "   'name': 'sparse_embedding',\n",
       "   'description': '',\n",
       "   'type': <DataType.SPARSE_FLOAT_VECTOR: 104>,\n",
       "   'params': {}}],\n",
       " 'functions': [],\n",
       " 'aliases': [],\n",
       " 'collection_id': 0,\n",
       " 'consistency_level': 0,\n",
       " 'properties': {},\n",
       " 'num_partitions': 0,\n",
       " 'enable_dynamic_field': True}"
      ]
     },
     "execution_count": 17,
     "metadata": {},
     "output_type": "execute_result"
    }
   ],
   "source": [
    "client_0.describe_collection('create_eval_dataset_collections_hybrid')"
   ]
  },
  {
   "cell_type": "code",
   "execution_count": 18,
   "id": "b66d33f2-9104-4596-aed5-a55c25eaf67c",
   "metadata": {},
   "outputs": [],
   "source": [
    "# dfa3a46c00000000 -> dfa3a46c00011095\n",
    "# 06ad4aec00000000 -> 06ad4aec00006915"
   ]
  },
  {
   "cell_type": "code",
   "execution_count": 19,
   "id": "88c89b59-c497-4945-8275-f1cbb09300f9",
   "metadata": {},
   "outputs": [
    {
     "name": "stdout",
     "output_type": "stream",
     "text": [
      "{'id_': '06ad4aec00000012', 'embedding': None, 'metadata': {'file_path': '/Users/Zhiyuan/Project/rag_projects/my-web-novel/data/filter/凡人修仙之仙界篇.txt', 'file_name': '凡人修仙之仙界篇.txt', 'file_type': 'text/plain', 'file_size': 13128184, 'creation_date': '2024-12-28', 'last_modified_date': '2024-12-03'}, 'excluded_embed_metadata_keys': ['file_name', 'file_type', 'file_size', 'creation_date', 'last_modified_date', 'last_accessed_date'], 'excluded_llm_metadata_keys': ['file_name', 'file_type', 'file_size', 'creation_date', 'last_modified_date', 'last_accessed_date'], 'relationships': {'1': {'node_id': 'a749a5bc-7e53-4308-9d29-685533dc674b', 'node_type': '4', 'metadata': {'file_path': '/Users/Zhiyuan/Project/rag_projects/my-web-novel/data/filter/凡人修仙之仙界篇.txt', 'file_name': '凡人修仙之仙界篇.txt', 'file_type': 'text/plain', 'file_size': 13128184, 'creation_date': '2024-12-28', 'last_modified_date': '2024-12-03'}, 'hash': '8280290383ed1bfa271c3c76dc38f50da4c1e7b86a13259096a24067997159bd', 'class_name': 'RelatedNodeInfo'}, '2': {'node_id': '06ad4aec00000011', 'node_type': '1', 'metadata': {'file_path': '/Users/Zhiyuan/Project/rag_projects/my-web-novel/data/filter/凡人修仙之仙界篇.txt', 'file_name': '凡人修仙之仙界篇.txt', 'file_type': 'text/plain', 'file_size': 13128184, 'creation_date': '2024-12-28', 'last_modified_date': '2024-12-03'}, 'hash': '8a51de2339559286a9cc337925fc82a069030b835f1e2e0a3b9d751ec799b1b2', 'class_name': 'RelatedNodeInfo'}, '3': {'node_id': '06ad4aec00000013', 'node_type': '1', 'metadata': {}, 'hash': '2bce859c2f59ac10180d3c1dfabe780a3d056db1016f336562115713aca6617b', 'class_name': 'RelatedNodeInfo'}}, 'metadata_template': '{key}: {value}', 'metadata_separator': '\\n', 'text': '整个人如一只千疮百孔破麻袋，彻底气息全无了。\\n“不可能，你……啊……”\\n虬髯大汉大惊失色，但还未来及做何补救举动，抓住他手腕五指只是一抖，就有阵阵诡异震动传来，让他瞬间全身骨头瞬间寸寸碎裂，其中痛苦犹如被人千刀万剐一把，让大汉不由发出凄厉之极的惨叫。\\n“嗖”的一声。\\n虬鬓大汉不由自主的腾空而起，被狠狠投向了不远处的一颗巨石上。\\n“轰”\\n在大汉惨叫声中，其整个身躯在巨石上爆裂而开，化为了一弹肉酱。\\n这一连串动作如同电光火石般，只是一瞬间事情。\\n齐姓道士看完这一切，面色如土了，蓦然一个转身，一边往身上狂拍五六张各色符箓，一边朝着来处撒腿狂奔起来。\\n但他只来及跑出几步，只觉四周空气骤紧，身上数种护体灵光一闪而灭，接着整个身体“砰”的一声，仿佛玩具般被什么无形巨物凭空捏爆，化为漫天血雨，血肉横飞。\\n“呼哧”一声。\\n笼罩在高大青年头颅上的浓浓血雾，化为缕缕血丝的没入了其口中，将其木然面容全都重新显露了出来。\\n\\n\\n第三章 远去\\n女童呆呆看着眼前发生的一切，小嘴半张，似乎还没有从方才的震惊中缓过神来。\\n她目光愣愣的望着虬髯大汉三人的尸体残躯，身子一软的坐倒在地，两行泪水从眼中催然淌下。\\n她起初只是嘤嘤的小声啜泣，似乎是想到了什么伤心事，哭声骤然变大。\\n如江水崩堤般爆发的嚎啕声，再次打破了荒地的宁静，就似一曲让人肝肠寸断的哀歌，在向老天爷倾诉着人间的坎坷与不平。\\n也不知过了多久，哭声戛然而止。\\n女童已再次站了起来，秀拳紧握，小脸上的乌黑和血渍已被泪水冲尽，再次露出一张清丽娇嫩的面庞，只是一双大眼中似乎比之前多了一些什么。\\n突然，她抬腿奔向了前方不远处，另一块灰白巨石方向。', 'mimetype': 'text/plain', 'start_char_idx': 7493, 'end_char_idx': 8182, 'metadata_seperator': '\\n', 'text_template': '{metadata_str}\\n\\n{content}', 'class_name': 'TextNode'}\n"
     ]
    }
   ],
   "source": [
    "res_0 = client_0.get(\n",
    "    collection_name=\"create_eval_dataset_collections_hybrid_512\",\n",
    "    ids=['06ad4aec00000012']\n",
    ")\n",
    "print(json.loads(res_0[0]['_node_content']))\n",
    "# print(res_0[0]['embedding'])"
   ]
  },
  {
   "cell_type": "code",
   "execution_count": 20,
   "id": "d0e235aa-2745-4a05-962c-3ff2240d0168",
   "metadata": {},
   "outputs": [
    {
     "name": "stdout",
     "output_type": "stream",
     "text": [
      "{'id_': '06ad4aec00000012', 'embedding': None, 'metadata': {'file_path': '/Users/Zhiyuan/Project/rag_projects/my-web-novel/data/filter/凡人修仙之仙界篇.txt', 'file_name': '凡人修仙之仙界篇.txt', 'file_type': 'text/plain', 'file_size': 13128184, 'creation_date': '2024-12-28', 'last_modified_date': '2024-12-03'}, 'excluded_embed_metadata_keys': ['file_name', 'file_type', 'file_size', 'creation_date', 'last_modified_date', 'last_accessed_date'], 'excluded_llm_metadata_keys': ['file_name', 'file_type', 'file_size', 'creation_date', 'last_modified_date', 'last_accessed_date'], 'relationships': {'1': {'node_id': 'a749a5bc-7e53-4308-9d29-685533dc674b', 'node_type': '4', 'metadata': {'file_path': '/Users/Zhiyuan/Project/rag_projects/my-web-novel/data/filter/凡人修仙之仙界篇.txt', 'file_name': '凡人修仙之仙界篇.txt', 'file_type': 'text/plain', 'file_size': 13128184, 'creation_date': '2024-12-28', 'last_modified_date': '2024-12-03'}, 'hash': '8280290383ed1bfa271c3c76dc38f50da4c1e7b86a13259096a24067997159bd', 'class_name': 'RelatedNodeInfo'}, '2': {'node_id': '06ad4aec00000011', 'node_type': '1', 'metadata': {'file_path': '/Users/Zhiyuan/Project/rag_projects/my-web-novel/data/filter/凡人修仙之仙界篇.txt', 'file_name': '凡人修仙之仙界篇.txt', 'file_type': 'text/plain', 'file_size': 13128184, 'creation_date': '2024-12-28', 'last_modified_date': '2024-12-03'}, 'hash': '8a51de2339559286a9cc337925fc82a069030b835f1e2e0a3b9d751ec799b1b2', 'class_name': 'RelatedNodeInfo'}, '3': {'node_id': '06ad4aec00000013', 'node_type': '1', 'metadata': {}, 'hash': '2bce859c2f59ac10180d3c1dfabe780a3d056db1016f336562115713aca6617b', 'class_name': 'RelatedNodeInfo'}}, 'metadata_template': '{key}: {value}', 'metadata_separator': '\\n', 'text': '整个人如一只千疮百孔破麻袋，彻底气息全无了。\\n“不可能，你……啊……”\\n虬髯大汉大惊失色，但还未来及做何补救举动，抓住他手腕五指只是一抖，就有阵阵诡异震动传来，让他瞬间全身骨头瞬间寸寸碎裂，其中痛苦犹如被人千刀万剐一把，让大汉不由发出凄厉之极的惨叫。\\n“嗖”的一声。\\n虬鬓大汉不由自主的腾空而起，被狠狠投向了不远处的一颗巨石上。\\n“轰”\\n在大汉惨叫声中，其整个身躯在巨石上爆裂而开，化为了一弹肉酱。\\n这一连串动作如同电光火石般，只是一瞬间事情。\\n齐姓道士看完这一切，面色如土了，蓦然一个转身，一边往身上狂拍五六张各色符箓，一边朝着来处撒腿狂奔起来。\\n但他只来及跑出几步，只觉四周空气骤紧，身上数种护体灵光一闪而灭，接着整个身体“砰”的一声，仿佛玩具般被什么无形巨物凭空捏爆，化为漫天血雨，血肉横飞。\\n“呼哧”一声。\\n笼罩在高大青年头颅上的浓浓血雾，化为缕缕血丝的没入了其口中，将其木然面容全都重新显露了出来。\\n\\n\\n第三章 远去\\n女童呆呆看着眼前发生的一切，小嘴半张，似乎还没有从方才的震惊中缓过神来。\\n她目光愣愣的望着虬髯大汉三人的尸体残躯，身子一软的坐倒在地，两行泪水从眼中催然淌下。\\n她起初只是嘤嘤的小声啜泣，似乎是想到了什么伤心事，哭声骤然变大。\\n如江水崩堤般爆发的嚎啕声，再次打破了荒地的宁静，就似一曲让人肝肠寸断的哀歌，在向老天爷倾诉着人间的坎坷与不平。\\n也不知过了多久，哭声戛然而止。\\n女童已再次站了起来，秀拳紧握，小脸上的乌黑和血渍已被泪水冲尽，再次露出一张清丽娇嫩的面庞，只是一双大眼中似乎比之前多了一些什么。\\n突然，她抬腿奔向了前方不远处，另一块灰白巨石方向。', 'mimetype': 'text/plain', 'start_char_idx': 7493, 'end_char_idx': 8182, 'metadata_seperator': '\\n', 'text_template': '{metadata_str}\\n\\n{content}', 'class_name': 'TextNode'}\n",
      "512\n"
     ]
    }
   ],
   "source": [
    "res_0 = client_0.get(\n",
    "    collection_name=\"create_eval_dataset_collections_hybrid_512\",\n",
    "    ids=['06ad4aec00000012']\n",
    ")\n",
    "print(json.loads(res_0[0]['_node_content']))\n",
    "print(len(res_0[0]['embedding']))\n",
    "#res_0[0]['sparse_embedding']\n",
    "# res_00 = client_0.query(\n",
    "#     collection_name=\"create_eval_dataset_collections\",\n",
    "#     filter=\"id like \\'dfa3a46c0000541%\\'\"\n",
    "# )\n",
    "# json.loads(res_00[8]['_node_content'])"
   ]
  },
  {
   "cell_type": "code",
   "execution_count": null,
   "id": "f5b7ab0a-8848-4e29-8597-2a69d6371116",
   "metadata": {},
   "outputs": [],
   "source": []
  },
  {
   "cell_type": "code",
   "execution_count": 21,
   "id": "20795ae6-3614-4502-8a99-16ab7f8dda1b",
   "metadata": {},
   "outputs": [],
   "source": [
    "client_0.drop_collection(collection_name='create_eval_dataset_collections_hybrid_512')\n",
    "client_0.close()"
   ]
  },
  {
   "cell_type": "code",
   "execution_count": 37,
   "id": "bd769787-973f-47e4-b186-b7a8c747e5de",
   "metadata": {},
   "outputs": [
    {
     "name": "stderr",
     "output_type": "stream",
     "text": [
      "2025-01-06 20:41:53,939 [ERROR][handler]: RPC error: [query], <MilvusException: (code=100, message=: collection not found)>, <Time:{'RPC start': '2025-01-06 20:41:53.937459', 'RPC error': '2025-01-06 20:41:53.939546'}> (decorators.py:140)\n",
      "2025-01-06 20:41:53,940 [ERROR][query]: Failed to query collection: create_eval_dataset_collections_hybrid (milvus_client.py:482)\n"
     ]
    },
    {
     "ename": "MilvusException",
     "evalue": "<MilvusException: (code=100, message=: collection not found)>",
     "output_type": "error",
     "traceback": [
      "\u001b[0;31m---------------------------------------------------------------------------\u001b[0m",
      "\u001b[0;31mMilvusException\u001b[0m                           Traceback (most recent call last)",
      "    \u001b[0;31m[... skipping hidden 1 frame]\u001b[0m\n",
      "Cell \u001b[0;32mIn[37], line 1\u001b[0m\n\u001b[0;32m----> 1\u001b[0m res \u001b[38;5;241m=\u001b[39m \u001b[43mclient_0\u001b[49m\u001b[38;5;241;43m.\u001b[39;49m\u001b[43mquery\u001b[49m\u001b[43m(\u001b[49m\n\u001b[1;32m      2\u001b[0m \u001b[43m    \u001b[49m\u001b[43mcollection_name\u001b[49m\u001b[38;5;241;43m=\u001b[39;49m\u001b[38;5;124;43m\"\u001b[39;49m\u001b[38;5;124;43mcreate_eval_dataset_collections_hybrid\u001b[39;49m\u001b[38;5;124;43m\"\u001b[39;49m\u001b[43m,\u001b[49m\n\u001b[1;32m      3\u001b[0m \u001b[43m    \u001b[49m\u001b[38;5;28;43mfilter\u001b[39;49m\u001b[38;5;241;43m=\u001b[39;49m\u001b[38;5;124;43m\"\u001b[39;49m\u001b[38;5;124;43mid like \u001b[39;49m\u001b[38;5;130;43;01m\\'\u001b[39;49;00m\u001b[38;5;124;43mdfa3a46c000001\u001b[39;49m\u001b[38;5;124;43m%\u001b[39;49m\u001b[38;5;130;43;01m\\'\u001b[39;49;00m\u001b[38;5;124;43m\"\u001b[39;49m\n\u001b[1;32m      4\u001b[0m \u001b[43m)\u001b[49m\n\u001b[1;32m      5\u001b[0m res\n",
      "File \u001b[0;32m~/miniconda3/envs/llama/lib/python3.9/site-packages/pymilvus/milvus_client/milvus_client.py:483\u001b[0m, in \u001b[0;36mMilvusClient.query\u001b[0;34m(self, collection_name, filter, output_fields, timeout, ids, partition_names, **kwargs)\u001b[0m\n\u001b[1;32m    482\u001b[0m     logger\u001b[38;5;241m.\u001b[39merror(\u001b[38;5;124m\"\u001b[39m\u001b[38;5;124mFailed to query collection: \u001b[39m\u001b[38;5;132;01m%s\u001b[39;00m\u001b[38;5;124m\"\u001b[39m, collection_name)\n\u001b[0;32m--> 483\u001b[0m     \u001b[38;5;28;01mraise\u001b[39;00m ex \u001b[38;5;28;01mfrom\u001b[39;00m \u001b[38;5;21;01mex\u001b[39;00m\n\u001b[1;32m    485\u001b[0m \u001b[38;5;28;01mreturn\u001b[39;00m res\n",
      "File \u001b[0;32m~/miniconda3/envs/llama/lib/python3.9/site-packages/pymilvus/milvus_client/milvus_client.py:472\u001b[0m, in \u001b[0;36mMilvusClient.query\u001b[0;34m(self, collection_name, filter, output_fields, timeout, ids, partition_names, **kwargs)\u001b[0m\n\u001b[1;32m    471\u001b[0m \u001b[38;5;28;01mtry\u001b[39;00m:\n\u001b[0;32m--> 472\u001b[0m     res \u001b[38;5;241m=\u001b[39m \u001b[43mconn\u001b[49m\u001b[38;5;241;43m.\u001b[39;49m\u001b[43mquery\u001b[49m\u001b[43m(\u001b[49m\n\u001b[1;32m    473\u001b[0m \u001b[43m        \u001b[49m\u001b[43mcollection_name\u001b[49m\u001b[43m,\u001b[49m\n\u001b[1;32m    474\u001b[0m \u001b[43m        \u001b[49m\u001b[43mexpr\u001b[49m\u001b[38;5;241;43m=\u001b[39;49m\u001b[38;5;28;43mfilter\u001b[39;49m\u001b[43m,\u001b[49m\n\u001b[1;32m    475\u001b[0m \u001b[43m        \u001b[49m\u001b[43moutput_fields\u001b[49m\u001b[38;5;241;43m=\u001b[39;49m\u001b[43moutput_fields\u001b[49m\u001b[43m,\u001b[49m\n\u001b[1;32m    476\u001b[0m \u001b[43m        \u001b[49m\u001b[43mpartition_names\u001b[49m\u001b[38;5;241;43m=\u001b[39;49m\u001b[43mpartition_names\u001b[49m\u001b[43m,\u001b[49m\n\u001b[1;32m    477\u001b[0m \u001b[43m        \u001b[49m\u001b[43mtimeout\u001b[49m\u001b[38;5;241;43m=\u001b[39;49m\u001b[43mtimeout\u001b[49m\u001b[43m,\u001b[49m\n\u001b[1;32m    478\u001b[0m \u001b[43m        \u001b[49m\u001b[43mexpr_params\u001b[49m\u001b[38;5;241;43m=\u001b[39;49m\u001b[43mkwargs\u001b[49m\u001b[38;5;241;43m.\u001b[39;49m\u001b[43mpop\u001b[49m\u001b[43m(\u001b[49m\u001b[38;5;124;43m\"\u001b[39;49m\u001b[38;5;124;43mfilter_params\u001b[39;49m\u001b[38;5;124;43m\"\u001b[39;49m\u001b[43m,\u001b[49m\u001b[43m \u001b[49m\u001b[43m{\u001b[49m\u001b[43m}\u001b[49m\u001b[43m)\u001b[49m\u001b[43m,\u001b[49m\n\u001b[1;32m    479\u001b[0m \u001b[43m        \u001b[49m\u001b[38;5;241;43m*\u001b[39;49m\u001b[38;5;241;43m*\u001b[39;49m\u001b[43mkwargs\u001b[49m\u001b[43m,\u001b[49m\n\u001b[1;32m    480\u001b[0m \u001b[43m    \u001b[49m\u001b[43m)\u001b[49m\n\u001b[1;32m    481\u001b[0m \u001b[38;5;28;01mexcept\u001b[39;00m \u001b[38;5;167;01mException\u001b[39;00m \u001b[38;5;28;01mas\u001b[39;00m ex:\n",
      "File \u001b[0;32m~/miniconda3/envs/llama/lib/python3.9/site-packages/pymilvus/decorators.py:141\u001b[0m, in \u001b[0;36merror_handler.<locals>.wrapper.<locals>.handler\u001b[0;34m(*args, **kwargs)\u001b[0m\n\u001b[1;32m    140\u001b[0m     LOGGER\u001b[38;5;241m.\u001b[39merror(\u001b[38;5;124mf\u001b[39m\u001b[38;5;124m\"\u001b[39m\u001b[38;5;124mRPC error: [\u001b[39m\u001b[38;5;132;01m{\u001b[39;00minner_name\u001b[38;5;132;01m}\u001b[39;00m\u001b[38;5;124m], \u001b[39m\u001b[38;5;132;01m{\u001b[39;00me\u001b[38;5;132;01m}\u001b[39;00m\u001b[38;5;124m, <Time:\u001b[39m\u001b[38;5;132;01m{\u001b[39;00mrecord_dict\u001b[38;5;132;01m}\u001b[39;00m\u001b[38;5;124m>\u001b[39m\u001b[38;5;124m\"\u001b[39m)\n\u001b[0;32m--> 141\u001b[0m     \u001b[38;5;28;01mraise\u001b[39;00m e \u001b[38;5;28;01mfrom\u001b[39;00m \u001b[38;5;21;01me\u001b[39;00m\n\u001b[1;32m    142\u001b[0m \u001b[38;5;28;01mexcept\u001b[39;00m grpc\u001b[38;5;241m.\u001b[39mFutureTimeoutError \u001b[38;5;28;01mas\u001b[39;00m e:\n",
      "File \u001b[0;32m~/miniconda3/envs/llama/lib/python3.9/site-packages/pymilvus/decorators.py:137\u001b[0m, in \u001b[0;36merror_handler.<locals>.wrapper.<locals>.handler\u001b[0;34m(*args, **kwargs)\u001b[0m\n\u001b[1;32m    136\u001b[0m     record_dict[\u001b[38;5;124m\"\u001b[39m\u001b[38;5;124mRPC start\u001b[39m\u001b[38;5;124m\"\u001b[39m] \u001b[38;5;241m=\u001b[39m \u001b[38;5;28mstr\u001b[39m(datetime\u001b[38;5;241m.\u001b[39mdatetime\u001b[38;5;241m.\u001b[39mnow())\n\u001b[0;32m--> 137\u001b[0m     \u001b[38;5;28;01mreturn\u001b[39;00m \u001b[43mfunc\u001b[49m\u001b[43m(\u001b[49m\u001b[38;5;241;43m*\u001b[39;49m\u001b[43margs\u001b[49m\u001b[43m,\u001b[49m\u001b[43m \u001b[49m\u001b[38;5;241;43m*\u001b[39;49m\u001b[38;5;241;43m*\u001b[39;49m\u001b[43mkwargs\u001b[49m\u001b[43m)\u001b[49m\n\u001b[1;32m    138\u001b[0m \u001b[38;5;28;01mexcept\u001b[39;00m MilvusException \u001b[38;5;28;01mas\u001b[39;00m e:\n",
      "File \u001b[0;32m~/miniconda3/envs/llama/lib/python3.9/site-packages/pymilvus/decorators.py:176\u001b[0m, in \u001b[0;36mtracing_request.<locals>.wrapper.<locals>.handler\u001b[0;34m(self, *args, **kwargs)\u001b[0m\n\u001b[1;32m    175\u001b[0m     \u001b[38;5;28mself\u001b[39m\u001b[38;5;241m.\u001b[39mset_onetime_request_id(req_id)\n\u001b[0;32m--> 176\u001b[0m \u001b[38;5;28;01mreturn\u001b[39;00m \u001b[43mfunc\u001b[49m\u001b[43m(\u001b[49m\u001b[38;5;28;43mself\u001b[39;49m\u001b[43m,\u001b[49m\u001b[43m \u001b[49m\u001b[38;5;241;43m*\u001b[39;49m\u001b[43margs\u001b[49m\u001b[43m,\u001b[49m\u001b[43m \u001b[49m\u001b[38;5;241;43m*\u001b[39;49m\u001b[38;5;241;43m*\u001b[39;49m\u001b[43mkwargs\u001b[49m\u001b[43m)\u001b[49m\n",
      "File \u001b[0;32m~/miniconda3/envs/llama/lib/python3.9/site-packages/pymilvus/decorators.py:116\u001b[0m, in \u001b[0;36mretry_on_rpc_failure.<locals>.wrapper.<locals>.handler\u001b[0;34m(*args, **kwargs)\u001b[0m\n\u001b[1;32m    115\u001b[0m     \u001b[38;5;28;01melse\u001b[39;00m:\n\u001b[0;32m--> 116\u001b[0m         \u001b[38;5;28;01mraise\u001b[39;00m e \u001b[38;5;28;01mfrom\u001b[39;00m \u001b[38;5;21;01me\u001b[39;00m\n\u001b[1;32m    117\u001b[0m \u001b[38;5;28;01mexcept\u001b[39;00m \u001b[38;5;167;01mException\u001b[39;00m \u001b[38;5;28;01mas\u001b[39;00m e:\n",
      "File \u001b[0;32m~/miniconda3/envs/llama/lib/python3.9/site-packages/pymilvus/decorators.py:86\u001b[0m, in \u001b[0;36mretry_on_rpc_failure.<locals>.wrapper.<locals>.handler\u001b[0;34m(*args, **kwargs)\u001b[0m\n\u001b[1;32m     85\u001b[0m \u001b[38;5;28;01mtry\u001b[39;00m:\n\u001b[0;32m---> 86\u001b[0m     \u001b[38;5;28;01mreturn\u001b[39;00m \u001b[43mfunc\u001b[49m\u001b[43m(\u001b[49m\u001b[38;5;241;43m*\u001b[39;49m\u001b[43margs\u001b[49m\u001b[43m,\u001b[49m\u001b[43m \u001b[49m\u001b[38;5;241;43m*\u001b[39;49m\u001b[38;5;241;43m*\u001b[39;49m\u001b[43mkwargs\u001b[49m\u001b[43m)\u001b[49m\n\u001b[1;32m     87\u001b[0m \u001b[38;5;28;01mexcept\u001b[39;00m grpc\u001b[38;5;241m.\u001b[39mRpcError \u001b[38;5;28;01mas\u001b[39;00m e:\n\u001b[1;32m     88\u001b[0m     \u001b[38;5;66;03m# Do not retry on these codes\u001b[39;00m\n",
      "File \u001b[0;32m~/miniconda3/envs/llama/lib/python3.9/site-packages/pymilvus/client/grpc_handler.py:1604\u001b[0m, in \u001b[0;36mGrpcHandler.query\u001b[0;34m(self, collection_name, expr, output_fields, partition_names, timeout, **kwargs)\u001b[0m\n\u001b[1;32m   1603\u001b[0m     \u001b[38;5;28;01mreturn\u001b[39;00m []\n\u001b[0;32m-> 1604\u001b[0m \u001b[43mcheck_status\u001b[49m\u001b[43m(\u001b[49m\u001b[43mresponse\u001b[49m\u001b[38;5;241;43m.\u001b[39;49m\u001b[43mstatus\u001b[49m\u001b[43m)\u001b[49m\n\u001b[1;32m   1606\u001b[0m num_fields \u001b[38;5;241m=\u001b[39m \u001b[38;5;28mlen\u001b[39m(response\u001b[38;5;241m.\u001b[39mfields_data)\n",
      "File \u001b[0;32m~/miniconda3/envs/llama/lib/python3.9/site-packages/pymilvus/client/utils.py:63\u001b[0m, in \u001b[0;36mcheck_status\u001b[0;34m(status)\u001b[0m\n\u001b[1;32m     62\u001b[0m \u001b[38;5;28;01mif\u001b[39;00m status\u001b[38;5;241m.\u001b[39mcode \u001b[38;5;241m!=\u001b[39m \u001b[38;5;241m0\u001b[39m \u001b[38;5;129;01mor\u001b[39;00m status\u001b[38;5;241m.\u001b[39merror_code \u001b[38;5;241m!=\u001b[39m \u001b[38;5;241m0\u001b[39m:\n\u001b[0;32m---> 63\u001b[0m     \u001b[38;5;28;01mraise\u001b[39;00m MilvusException(status\u001b[38;5;241m.\u001b[39mcode, status\u001b[38;5;241m.\u001b[39mreason, status\u001b[38;5;241m.\u001b[39merror_code)\n",
      "\u001b[0;31mMilvusException\u001b[0m: <MilvusException: (code=100, message=: collection not found)>",
      "\nThe above exception was the direct cause of the following exception:\n",
      "\u001b[0;31mMilvusException\u001b[0m                           Traceback (most recent call last)",
      "    \u001b[0;31m[... skipping hidden 1 frame]\u001b[0m\n",
      "Cell \u001b[0;32mIn[37], line 1\u001b[0m\n\u001b[0;32m----> 1\u001b[0m res \u001b[38;5;241m=\u001b[39m \u001b[43mclient_0\u001b[49m\u001b[38;5;241;43m.\u001b[39;49m\u001b[43mquery\u001b[49m\u001b[43m(\u001b[49m\n\u001b[1;32m      2\u001b[0m \u001b[43m    \u001b[49m\u001b[43mcollection_name\u001b[49m\u001b[38;5;241;43m=\u001b[39;49m\u001b[38;5;124;43m\"\u001b[39;49m\u001b[38;5;124;43mcreate_eval_dataset_collections_hybrid\u001b[39;49m\u001b[38;5;124;43m\"\u001b[39;49m\u001b[43m,\u001b[49m\n\u001b[1;32m      3\u001b[0m \u001b[43m    \u001b[49m\u001b[38;5;28;43mfilter\u001b[39;49m\u001b[38;5;241;43m=\u001b[39;49m\u001b[38;5;124;43m\"\u001b[39;49m\u001b[38;5;124;43mid like \u001b[39;49m\u001b[38;5;130;43;01m\\'\u001b[39;49;00m\u001b[38;5;124;43mdfa3a46c000001\u001b[39;49m\u001b[38;5;124;43m%\u001b[39;49m\u001b[38;5;130;43;01m\\'\u001b[39;49;00m\u001b[38;5;124;43m\"\u001b[39;49m\n\u001b[1;32m      4\u001b[0m \u001b[43m)\u001b[49m\n\u001b[1;32m      5\u001b[0m res\n",
      "File \u001b[0;32m~/miniconda3/envs/llama/lib/python3.9/site-packages/pymilvus/milvus_client/milvus_client.py:483\u001b[0m, in \u001b[0;36mMilvusClient.query\u001b[0;34m(self, collection_name, filter, output_fields, timeout, ids, partition_names, **kwargs)\u001b[0m\n\u001b[1;32m    482\u001b[0m     logger\u001b[38;5;241m.\u001b[39merror(\u001b[38;5;124m\"\u001b[39m\u001b[38;5;124mFailed to query collection: \u001b[39m\u001b[38;5;132;01m%s\u001b[39;00m\u001b[38;5;124m\"\u001b[39m, collection_name)\n\u001b[0;32m--> 483\u001b[0m     \u001b[38;5;28;01mraise\u001b[39;00m ex \u001b[38;5;28;01mfrom\u001b[39;00m \u001b[38;5;21;01mex\u001b[39;00m\n\u001b[1;32m    485\u001b[0m \u001b[38;5;28;01mreturn\u001b[39;00m res\n",
      "File \u001b[0;32m~/miniconda3/envs/llama/lib/python3.9/site-packages/pymilvus/milvus_client/milvus_client.py:472\u001b[0m, in \u001b[0;36mMilvusClient.query\u001b[0;34m(self, collection_name, filter, output_fields, timeout, ids, partition_names, **kwargs)\u001b[0m\n\u001b[1;32m    471\u001b[0m \u001b[38;5;28;01mtry\u001b[39;00m:\n\u001b[0;32m--> 472\u001b[0m     res \u001b[38;5;241m=\u001b[39m \u001b[43mconn\u001b[49m\u001b[38;5;241;43m.\u001b[39;49m\u001b[43mquery\u001b[49m\u001b[43m(\u001b[49m\n\u001b[1;32m    473\u001b[0m \u001b[43m        \u001b[49m\u001b[43mcollection_name\u001b[49m\u001b[43m,\u001b[49m\n\u001b[1;32m    474\u001b[0m \u001b[43m        \u001b[49m\u001b[43mexpr\u001b[49m\u001b[38;5;241;43m=\u001b[39;49m\u001b[38;5;28;43mfilter\u001b[39;49m\u001b[43m,\u001b[49m\n\u001b[1;32m    475\u001b[0m \u001b[43m        \u001b[49m\u001b[43moutput_fields\u001b[49m\u001b[38;5;241;43m=\u001b[39;49m\u001b[43moutput_fields\u001b[49m\u001b[43m,\u001b[49m\n\u001b[1;32m    476\u001b[0m \u001b[43m        \u001b[49m\u001b[43mpartition_names\u001b[49m\u001b[38;5;241;43m=\u001b[39;49m\u001b[43mpartition_names\u001b[49m\u001b[43m,\u001b[49m\n\u001b[1;32m    477\u001b[0m \u001b[43m        \u001b[49m\u001b[43mtimeout\u001b[49m\u001b[38;5;241;43m=\u001b[39;49m\u001b[43mtimeout\u001b[49m\u001b[43m,\u001b[49m\n\u001b[1;32m    478\u001b[0m \u001b[43m        \u001b[49m\u001b[43mexpr_params\u001b[49m\u001b[38;5;241;43m=\u001b[39;49m\u001b[43mkwargs\u001b[49m\u001b[38;5;241;43m.\u001b[39;49m\u001b[43mpop\u001b[49m\u001b[43m(\u001b[49m\u001b[38;5;124;43m\"\u001b[39;49m\u001b[38;5;124;43mfilter_params\u001b[39;49m\u001b[38;5;124;43m\"\u001b[39;49m\u001b[43m,\u001b[49m\u001b[43m \u001b[49m\u001b[43m{\u001b[49m\u001b[43m}\u001b[49m\u001b[43m)\u001b[49m\u001b[43m,\u001b[49m\n\u001b[1;32m    479\u001b[0m \u001b[43m        \u001b[49m\u001b[38;5;241;43m*\u001b[39;49m\u001b[38;5;241;43m*\u001b[39;49m\u001b[43mkwargs\u001b[49m\u001b[43m,\u001b[49m\n\u001b[1;32m    480\u001b[0m \u001b[43m    \u001b[49m\u001b[43m)\u001b[49m\n\u001b[1;32m    481\u001b[0m \u001b[38;5;28;01mexcept\u001b[39;00m \u001b[38;5;167;01mException\u001b[39;00m \u001b[38;5;28;01mas\u001b[39;00m ex:\n",
      "File \u001b[0;32m~/miniconda3/envs/llama/lib/python3.9/site-packages/pymilvus/decorators.py:141\u001b[0m, in \u001b[0;36merror_handler.<locals>.wrapper.<locals>.handler\u001b[0;34m(*args, **kwargs)\u001b[0m\n\u001b[1;32m    140\u001b[0m     LOGGER\u001b[38;5;241m.\u001b[39merror(\u001b[38;5;124mf\u001b[39m\u001b[38;5;124m\"\u001b[39m\u001b[38;5;124mRPC error: [\u001b[39m\u001b[38;5;132;01m{\u001b[39;00minner_name\u001b[38;5;132;01m}\u001b[39;00m\u001b[38;5;124m], \u001b[39m\u001b[38;5;132;01m{\u001b[39;00me\u001b[38;5;132;01m}\u001b[39;00m\u001b[38;5;124m, <Time:\u001b[39m\u001b[38;5;132;01m{\u001b[39;00mrecord_dict\u001b[38;5;132;01m}\u001b[39;00m\u001b[38;5;124m>\u001b[39m\u001b[38;5;124m\"\u001b[39m)\n\u001b[0;32m--> 141\u001b[0m     \u001b[38;5;28;01mraise\u001b[39;00m e \u001b[38;5;28;01mfrom\u001b[39;00m \u001b[38;5;21;01me\u001b[39;00m\n\u001b[1;32m    142\u001b[0m \u001b[38;5;28;01mexcept\u001b[39;00m grpc\u001b[38;5;241m.\u001b[39mFutureTimeoutError \u001b[38;5;28;01mas\u001b[39;00m e:\n",
      "File \u001b[0;32m~/miniconda3/envs/llama/lib/python3.9/site-packages/pymilvus/decorators.py:137\u001b[0m, in \u001b[0;36merror_handler.<locals>.wrapper.<locals>.handler\u001b[0;34m(*args, **kwargs)\u001b[0m\n\u001b[1;32m    136\u001b[0m     record_dict[\u001b[38;5;124m\"\u001b[39m\u001b[38;5;124mRPC start\u001b[39m\u001b[38;5;124m\"\u001b[39m] \u001b[38;5;241m=\u001b[39m \u001b[38;5;28mstr\u001b[39m(datetime\u001b[38;5;241m.\u001b[39mdatetime\u001b[38;5;241m.\u001b[39mnow())\n\u001b[0;32m--> 137\u001b[0m     \u001b[38;5;28;01mreturn\u001b[39;00m \u001b[43mfunc\u001b[49m\u001b[43m(\u001b[49m\u001b[38;5;241;43m*\u001b[39;49m\u001b[43margs\u001b[49m\u001b[43m,\u001b[49m\u001b[43m \u001b[49m\u001b[38;5;241;43m*\u001b[39;49m\u001b[38;5;241;43m*\u001b[39;49m\u001b[43mkwargs\u001b[49m\u001b[43m)\u001b[49m\n\u001b[1;32m    138\u001b[0m \u001b[38;5;28;01mexcept\u001b[39;00m MilvusException \u001b[38;5;28;01mas\u001b[39;00m e:\n",
      "File \u001b[0;32m~/miniconda3/envs/llama/lib/python3.9/site-packages/pymilvus/decorators.py:176\u001b[0m, in \u001b[0;36mtracing_request.<locals>.wrapper.<locals>.handler\u001b[0;34m(self, *args, **kwargs)\u001b[0m\n\u001b[1;32m    175\u001b[0m     \u001b[38;5;28mself\u001b[39m\u001b[38;5;241m.\u001b[39mset_onetime_request_id(req_id)\n\u001b[0;32m--> 176\u001b[0m \u001b[38;5;28;01mreturn\u001b[39;00m \u001b[43mfunc\u001b[49m\u001b[43m(\u001b[49m\u001b[38;5;28;43mself\u001b[39;49m\u001b[43m,\u001b[49m\u001b[43m \u001b[49m\u001b[38;5;241;43m*\u001b[39;49m\u001b[43margs\u001b[49m\u001b[43m,\u001b[49m\u001b[43m \u001b[49m\u001b[38;5;241;43m*\u001b[39;49m\u001b[38;5;241;43m*\u001b[39;49m\u001b[43mkwargs\u001b[49m\u001b[43m)\u001b[49m\n",
      "File \u001b[0;32m~/miniconda3/envs/llama/lib/python3.9/site-packages/pymilvus/decorators.py:116\u001b[0m, in \u001b[0;36mretry_on_rpc_failure.<locals>.wrapper.<locals>.handler\u001b[0;34m(*args, **kwargs)\u001b[0m\n\u001b[1;32m    115\u001b[0m     \u001b[38;5;28;01melse\u001b[39;00m:\n\u001b[0;32m--> 116\u001b[0m         \u001b[38;5;28;01mraise\u001b[39;00m e \u001b[38;5;28;01mfrom\u001b[39;00m \u001b[38;5;21;01me\u001b[39;00m\n\u001b[1;32m    117\u001b[0m \u001b[38;5;28;01mexcept\u001b[39;00m \u001b[38;5;167;01mException\u001b[39;00m \u001b[38;5;28;01mas\u001b[39;00m e:\n",
      "File \u001b[0;32m~/miniconda3/envs/llama/lib/python3.9/site-packages/pymilvus/decorators.py:86\u001b[0m, in \u001b[0;36mretry_on_rpc_failure.<locals>.wrapper.<locals>.handler\u001b[0;34m(*args, **kwargs)\u001b[0m\n\u001b[1;32m     85\u001b[0m \u001b[38;5;28;01mtry\u001b[39;00m:\n\u001b[0;32m---> 86\u001b[0m     \u001b[38;5;28;01mreturn\u001b[39;00m \u001b[43mfunc\u001b[49m\u001b[43m(\u001b[49m\u001b[38;5;241;43m*\u001b[39;49m\u001b[43margs\u001b[49m\u001b[43m,\u001b[49m\u001b[43m \u001b[49m\u001b[38;5;241;43m*\u001b[39;49m\u001b[38;5;241;43m*\u001b[39;49m\u001b[43mkwargs\u001b[49m\u001b[43m)\u001b[49m\n\u001b[1;32m     87\u001b[0m \u001b[38;5;28;01mexcept\u001b[39;00m grpc\u001b[38;5;241m.\u001b[39mRpcError \u001b[38;5;28;01mas\u001b[39;00m e:\n\u001b[1;32m     88\u001b[0m     \u001b[38;5;66;03m# Do not retry on these codes\u001b[39;00m\n",
      "File \u001b[0;32m~/miniconda3/envs/llama/lib/python3.9/site-packages/pymilvus/client/grpc_handler.py:1604\u001b[0m, in \u001b[0;36mGrpcHandler.query\u001b[0;34m(self, collection_name, expr, output_fields, partition_names, timeout, **kwargs)\u001b[0m\n\u001b[1;32m   1603\u001b[0m     \u001b[38;5;28;01mreturn\u001b[39;00m []\n\u001b[0;32m-> 1604\u001b[0m \u001b[43mcheck_status\u001b[49m\u001b[43m(\u001b[49m\u001b[43mresponse\u001b[49m\u001b[38;5;241;43m.\u001b[39;49m\u001b[43mstatus\u001b[49m\u001b[43m)\u001b[49m\n\u001b[1;32m   1606\u001b[0m num_fields \u001b[38;5;241m=\u001b[39m \u001b[38;5;28mlen\u001b[39m(response\u001b[38;5;241m.\u001b[39mfields_data)\n",
      "File \u001b[0;32m~/miniconda3/envs/llama/lib/python3.9/site-packages/pymilvus/client/utils.py:63\u001b[0m, in \u001b[0;36mcheck_status\u001b[0;34m(status)\u001b[0m\n\u001b[1;32m     62\u001b[0m \u001b[38;5;28;01mif\u001b[39;00m status\u001b[38;5;241m.\u001b[39mcode \u001b[38;5;241m!=\u001b[39m \u001b[38;5;241m0\u001b[39m \u001b[38;5;129;01mor\u001b[39;00m status\u001b[38;5;241m.\u001b[39merror_code \u001b[38;5;241m!=\u001b[39m \u001b[38;5;241m0\u001b[39m:\n\u001b[0;32m---> 63\u001b[0m     \u001b[38;5;28;01mraise\u001b[39;00m MilvusException(status\u001b[38;5;241m.\u001b[39mcode, status\u001b[38;5;241m.\u001b[39mreason, status\u001b[38;5;241m.\u001b[39merror_code)\n",
      "\u001b[0;31mMilvusException\u001b[0m: <MilvusException: (code=100, message=: collection not found)>",
      "\nThe above exception was the direct cause of the following exception:\n",
      "\u001b[0;31mMilvusException\u001b[0m                           Traceback (most recent call last)",
      "Cell \u001b[0;32mIn[37], line 1\u001b[0m\n\u001b[0;32m----> 1\u001b[0m res \u001b[38;5;241m=\u001b[39m \u001b[43mclient_0\u001b[49m\u001b[38;5;241;43m.\u001b[39;49m\u001b[43mquery\u001b[49m\u001b[43m(\u001b[49m\n\u001b[1;32m      2\u001b[0m \u001b[43m    \u001b[49m\u001b[43mcollection_name\u001b[49m\u001b[38;5;241;43m=\u001b[39;49m\u001b[38;5;124;43m\"\u001b[39;49m\u001b[38;5;124;43mcreate_eval_dataset_collections_hybrid\u001b[39;49m\u001b[38;5;124;43m\"\u001b[39;49m\u001b[43m,\u001b[49m\n\u001b[1;32m      3\u001b[0m \u001b[43m    \u001b[49m\u001b[38;5;28;43mfilter\u001b[39;49m\u001b[38;5;241;43m=\u001b[39;49m\u001b[38;5;124;43m\"\u001b[39;49m\u001b[38;5;124;43mid like \u001b[39;49m\u001b[38;5;130;43;01m\\'\u001b[39;49;00m\u001b[38;5;124;43mdfa3a46c000001\u001b[39;49m\u001b[38;5;124;43m%\u001b[39;49m\u001b[38;5;130;43;01m\\'\u001b[39;49;00m\u001b[38;5;124;43m\"\u001b[39;49m\n\u001b[1;32m      4\u001b[0m \u001b[43m)\u001b[49m\n\u001b[1;32m      5\u001b[0m res\n",
      "File \u001b[0;32m~/miniconda3/envs/llama/lib/python3.9/site-packages/pymilvus/milvus_client/milvus_client.py:483\u001b[0m, in \u001b[0;36mMilvusClient.query\u001b[0;34m(self, collection_name, filter, output_fields, timeout, ids, partition_names, **kwargs)\u001b[0m\n\u001b[1;32m    481\u001b[0m \u001b[38;5;28;01mexcept\u001b[39;00m \u001b[38;5;167;01mException\u001b[39;00m \u001b[38;5;28;01mas\u001b[39;00m ex:\n\u001b[1;32m    482\u001b[0m     logger\u001b[38;5;241m.\u001b[39merror(\u001b[38;5;124m\"\u001b[39m\u001b[38;5;124mFailed to query collection: \u001b[39m\u001b[38;5;132;01m%s\u001b[39;00m\u001b[38;5;124m\"\u001b[39m, collection_name)\n\u001b[0;32m--> 483\u001b[0m     \u001b[38;5;28;01mraise\u001b[39;00m ex \u001b[38;5;28;01mfrom\u001b[39;00m \u001b[38;5;21;01mex\u001b[39;00m\n\u001b[1;32m    485\u001b[0m \u001b[38;5;28;01mreturn\u001b[39;00m res\n",
      "File \u001b[0;32m~/miniconda3/envs/llama/lib/python3.9/site-packages/pymilvus/milvus_client/milvus_client.py:472\u001b[0m, in \u001b[0;36mMilvusClient.query\u001b[0;34m(self, collection_name, filter, output_fields, timeout, ids, partition_names, **kwargs)\u001b[0m\n\u001b[1;32m    469\u001b[0m     output_fields \u001b[38;5;241m=\u001b[39m [\u001b[38;5;124m\"\u001b[39m\u001b[38;5;124m*\u001b[39m\u001b[38;5;124m\"\u001b[39m]\n\u001b[1;32m    471\u001b[0m \u001b[38;5;28;01mtry\u001b[39;00m:\n\u001b[0;32m--> 472\u001b[0m     res \u001b[38;5;241m=\u001b[39m \u001b[43mconn\u001b[49m\u001b[38;5;241;43m.\u001b[39;49m\u001b[43mquery\u001b[49m\u001b[43m(\u001b[49m\n\u001b[1;32m    473\u001b[0m \u001b[43m        \u001b[49m\u001b[43mcollection_name\u001b[49m\u001b[43m,\u001b[49m\n\u001b[1;32m    474\u001b[0m \u001b[43m        \u001b[49m\u001b[43mexpr\u001b[49m\u001b[38;5;241;43m=\u001b[39;49m\u001b[38;5;28;43mfilter\u001b[39;49m\u001b[43m,\u001b[49m\n\u001b[1;32m    475\u001b[0m \u001b[43m        \u001b[49m\u001b[43moutput_fields\u001b[49m\u001b[38;5;241;43m=\u001b[39;49m\u001b[43moutput_fields\u001b[49m\u001b[43m,\u001b[49m\n\u001b[1;32m    476\u001b[0m \u001b[43m        \u001b[49m\u001b[43mpartition_names\u001b[49m\u001b[38;5;241;43m=\u001b[39;49m\u001b[43mpartition_names\u001b[49m\u001b[43m,\u001b[49m\n\u001b[1;32m    477\u001b[0m \u001b[43m        \u001b[49m\u001b[43mtimeout\u001b[49m\u001b[38;5;241;43m=\u001b[39;49m\u001b[43mtimeout\u001b[49m\u001b[43m,\u001b[49m\n\u001b[1;32m    478\u001b[0m \u001b[43m        \u001b[49m\u001b[43mexpr_params\u001b[49m\u001b[38;5;241;43m=\u001b[39;49m\u001b[43mkwargs\u001b[49m\u001b[38;5;241;43m.\u001b[39;49m\u001b[43mpop\u001b[49m\u001b[43m(\u001b[49m\u001b[38;5;124;43m\"\u001b[39;49m\u001b[38;5;124;43mfilter_params\u001b[39;49m\u001b[38;5;124;43m\"\u001b[39;49m\u001b[43m,\u001b[49m\u001b[43m \u001b[49m\u001b[43m{\u001b[49m\u001b[43m}\u001b[49m\u001b[43m)\u001b[49m\u001b[43m,\u001b[49m\n\u001b[1;32m    479\u001b[0m \u001b[43m        \u001b[49m\u001b[38;5;241;43m*\u001b[39;49m\u001b[38;5;241;43m*\u001b[39;49m\u001b[43mkwargs\u001b[49m\u001b[43m,\u001b[49m\n\u001b[1;32m    480\u001b[0m \u001b[43m    \u001b[49m\u001b[43m)\u001b[49m\n\u001b[1;32m    481\u001b[0m \u001b[38;5;28;01mexcept\u001b[39;00m \u001b[38;5;167;01mException\u001b[39;00m \u001b[38;5;28;01mas\u001b[39;00m ex:\n\u001b[1;32m    482\u001b[0m     logger\u001b[38;5;241m.\u001b[39merror(\u001b[38;5;124m\"\u001b[39m\u001b[38;5;124mFailed to query collection: \u001b[39m\u001b[38;5;132;01m%s\u001b[39;00m\u001b[38;5;124m\"\u001b[39m, collection_name)\n",
      "File \u001b[0;32m~/miniconda3/envs/llama/lib/python3.9/site-packages/pymilvus/decorators.py:141\u001b[0m, in \u001b[0;36merror_handler.<locals>.wrapper.<locals>.handler\u001b[0;34m(*args, **kwargs)\u001b[0m\n\u001b[1;32m    139\u001b[0m     record_dict[\u001b[38;5;124m\"\u001b[39m\u001b[38;5;124mRPC error\u001b[39m\u001b[38;5;124m\"\u001b[39m] \u001b[38;5;241m=\u001b[39m \u001b[38;5;28mstr\u001b[39m(datetime\u001b[38;5;241m.\u001b[39mdatetime\u001b[38;5;241m.\u001b[39mnow())\n\u001b[1;32m    140\u001b[0m     LOGGER\u001b[38;5;241m.\u001b[39merror(\u001b[38;5;124mf\u001b[39m\u001b[38;5;124m\"\u001b[39m\u001b[38;5;124mRPC error: [\u001b[39m\u001b[38;5;132;01m{\u001b[39;00minner_name\u001b[38;5;132;01m}\u001b[39;00m\u001b[38;5;124m], \u001b[39m\u001b[38;5;132;01m{\u001b[39;00me\u001b[38;5;132;01m}\u001b[39;00m\u001b[38;5;124m, <Time:\u001b[39m\u001b[38;5;132;01m{\u001b[39;00mrecord_dict\u001b[38;5;132;01m}\u001b[39;00m\u001b[38;5;124m>\u001b[39m\u001b[38;5;124m\"\u001b[39m)\n\u001b[0;32m--> 141\u001b[0m     \u001b[38;5;28;01mraise\u001b[39;00m e \u001b[38;5;28;01mfrom\u001b[39;00m \u001b[38;5;21;01me\u001b[39;00m\n\u001b[1;32m    142\u001b[0m \u001b[38;5;28;01mexcept\u001b[39;00m grpc\u001b[38;5;241m.\u001b[39mFutureTimeoutError \u001b[38;5;28;01mas\u001b[39;00m e:\n\u001b[1;32m    143\u001b[0m     record_dict[\u001b[38;5;124m\"\u001b[39m\u001b[38;5;124mgRPC timeout\u001b[39m\u001b[38;5;124m\"\u001b[39m] \u001b[38;5;241m=\u001b[39m \u001b[38;5;28mstr\u001b[39m(datetime\u001b[38;5;241m.\u001b[39mdatetime\u001b[38;5;241m.\u001b[39mnow())\n",
      "File \u001b[0;32m~/miniconda3/envs/llama/lib/python3.9/site-packages/pymilvus/decorators.py:137\u001b[0m, in \u001b[0;36merror_handler.<locals>.wrapper.<locals>.handler\u001b[0;34m(*args, **kwargs)\u001b[0m\n\u001b[1;32m    135\u001b[0m \u001b[38;5;28;01mtry\u001b[39;00m:\n\u001b[1;32m    136\u001b[0m     record_dict[\u001b[38;5;124m\"\u001b[39m\u001b[38;5;124mRPC start\u001b[39m\u001b[38;5;124m\"\u001b[39m] \u001b[38;5;241m=\u001b[39m \u001b[38;5;28mstr\u001b[39m(datetime\u001b[38;5;241m.\u001b[39mdatetime\u001b[38;5;241m.\u001b[39mnow())\n\u001b[0;32m--> 137\u001b[0m     \u001b[38;5;28;01mreturn\u001b[39;00m \u001b[43mfunc\u001b[49m\u001b[43m(\u001b[49m\u001b[38;5;241;43m*\u001b[39;49m\u001b[43margs\u001b[49m\u001b[43m,\u001b[49m\u001b[43m \u001b[49m\u001b[38;5;241;43m*\u001b[39;49m\u001b[38;5;241;43m*\u001b[39;49m\u001b[43mkwargs\u001b[49m\u001b[43m)\u001b[49m\n\u001b[1;32m    138\u001b[0m \u001b[38;5;28;01mexcept\u001b[39;00m MilvusException \u001b[38;5;28;01mas\u001b[39;00m e:\n\u001b[1;32m    139\u001b[0m     record_dict[\u001b[38;5;124m\"\u001b[39m\u001b[38;5;124mRPC error\u001b[39m\u001b[38;5;124m\"\u001b[39m] \u001b[38;5;241m=\u001b[39m \u001b[38;5;28mstr\u001b[39m(datetime\u001b[38;5;241m.\u001b[39mdatetime\u001b[38;5;241m.\u001b[39mnow())\n",
      "File \u001b[0;32m~/miniconda3/envs/llama/lib/python3.9/site-packages/pymilvus/decorators.py:176\u001b[0m, in \u001b[0;36mtracing_request.<locals>.wrapper.<locals>.handler\u001b[0;34m(self, *args, **kwargs)\u001b[0m\n\u001b[1;32m    174\u001b[0m \u001b[38;5;28;01mif\u001b[39;00m req_id:\n\u001b[1;32m    175\u001b[0m     \u001b[38;5;28mself\u001b[39m\u001b[38;5;241m.\u001b[39mset_onetime_request_id(req_id)\n\u001b[0;32m--> 176\u001b[0m \u001b[38;5;28;01mreturn\u001b[39;00m \u001b[43mfunc\u001b[49m\u001b[43m(\u001b[49m\u001b[38;5;28;43mself\u001b[39;49m\u001b[43m,\u001b[49m\u001b[43m \u001b[49m\u001b[38;5;241;43m*\u001b[39;49m\u001b[43margs\u001b[49m\u001b[43m,\u001b[49m\u001b[43m \u001b[49m\u001b[38;5;241;43m*\u001b[39;49m\u001b[38;5;241;43m*\u001b[39;49m\u001b[43mkwargs\u001b[49m\u001b[43m)\u001b[49m\n",
      "File \u001b[0;32m~/miniconda3/envs/llama/lib/python3.9/site-packages/pymilvus/decorators.py:116\u001b[0m, in \u001b[0;36mretry_on_rpc_failure.<locals>.wrapper.<locals>.handler\u001b[0;34m(*args, **kwargs)\u001b[0m\n\u001b[1;32m    114\u001b[0m         back_off \u001b[38;5;241m=\u001b[39m \u001b[38;5;28mmin\u001b[39m(back_off \u001b[38;5;241m*\u001b[39m back_off_multiplier, max_back_off)\n\u001b[1;32m    115\u001b[0m     \u001b[38;5;28;01melse\u001b[39;00m:\n\u001b[0;32m--> 116\u001b[0m         \u001b[38;5;28;01mraise\u001b[39;00m e \u001b[38;5;28;01mfrom\u001b[39;00m \u001b[38;5;21;01me\u001b[39;00m\n\u001b[1;32m    117\u001b[0m \u001b[38;5;28;01mexcept\u001b[39;00m \u001b[38;5;167;01mException\u001b[39;00m \u001b[38;5;28;01mas\u001b[39;00m e:\n\u001b[1;32m    118\u001b[0m     \u001b[38;5;28;01mraise\u001b[39;00m e \u001b[38;5;28;01mfrom\u001b[39;00m \u001b[38;5;21;01me\u001b[39;00m\n",
      "File \u001b[0;32m~/miniconda3/envs/llama/lib/python3.9/site-packages/pymilvus/decorators.py:86\u001b[0m, in \u001b[0;36mretry_on_rpc_failure.<locals>.wrapper.<locals>.handler\u001b[0;34m(*args, **kwargs)\u001b[0m\n\u001b[1;32m     84\u001b[0m \u001b[38;5;28;01mwhile\u001b[39;00m \u001b[38;5;28;01mTrue\u001b[39;00m:\n\u001b[1;32m     85\u001b[0m     \u001b[38;5;28;01mtry\u001b[39;00m:\n\u001b[0;32m---> 86\u001b[0m         \u001b[38;5;28;01mreturn\u001b[39;00m \u001b[43mfunc\u001b[49m\u001b[43m(\u001b[49m\u001b[38;5;241;43m*\u001b[39;49m\u001b[43margs\u001b[49m\u001b[43m,\u001b[49m\u001b[43m \u001b[49m\u001b[38;5;241;43m*\u001b[39;49m\u001b[38;5;241;43m*\u001b[39;49m\u001b[43mkwargs\u001b[49m\u001b[43m)\u001b[49m\n\u001b[1;32m     87\u001b[0m     \u001b[38;5;28;01mexcept\u001b[39;00m grpc\u001b[38;5;241m.\u001b[39mRpcError \u001b[38;5;28;01mas\u001b[39;00m e:\n\u001b[1;32m     88\u001b[0m         \u001b[38;5;66;03m# Do not retry on these codes\u001b[39;00m\n\u001b[1;32m     89\u001b[0m         \u001b[38;5;28;01mif\u001b[39;00m e\u001b[38;5;241m.\u001b[39mcode() \u001b[38;5;129;01min\u001b[39;00m IGNORE_RETRY_CODES:\n",
      "File \u001b[0;32m~/miniconda3/envs/llama/lib/python3.9/site-packages/pymilvus/client/grpc_handler.py:1604\u001b[0m, in \u001b[0;36mGrpcHandler.query\u001b[0;34m(self, collection_name, expr, output_fields, partition_names, timeout, **kwargs)\u001b[0m\n\u001b[1;32m   1602\u001b[0m \u001b[38;5;28;01mif\u001b[39;00m Status\u001b[38;5;241m.\u001b[39mEMPTY_COLLECTION \u001b[38;5;129;01min\u001b[39;00m {response\u001b[38;5;241m.\u001b[39mstatus\u001b[38;5;241m.\u001b[39mcode, response\u001b[38;5;241m.\u001b[39mstatus\u001b[38;5;241m.\u001b[39merror_code}:\n\u001b[1;32m   1603\u001b[0m     \u001b[38;5;28;01mreturn\u001b[39;00m []\n\u001b[0;32m-> 1604\u001b[0m \u001b[43mcheck_status\u001b[49m\u001b[43m(\u001b[49m\u001b[43mresponse\u001b[49m\u001b[38;5;241;43m.\u001b[39;49m\u001b[43mstatus\u001b[49m\u001b[43m)\u001b[49m\n\u001b[1;32m   1606\u001b[0m num_fields \u001b[38;5;241m=\u001b[39m \u001b[38;5;28mlen\u001b[39m(response\u001b[38;5;241m.\u001b[39mfields_data)\n\u001b[1;32m   1607\u001b[0m \u001b[38;5;66;03m# check has fields\u001b[39;00m\n",
      "File \u001b[0;32m~/miniconda3/envs/llama/lib/python3.9/site-packages/pymilvus/client/utils.py:63\u001b[0m, in \u001b[0;36mcheck_status\u001b[0;34m(status)\u001b[0m\n\u001b[1;32m     61\u001b[0m \u001b[38;5;28;01mdef\u001b[39;00m \u001b[38;5;21mcheck_status\u001b[39m(status: Status):\n\u001b[1;32m     62\u001b[0m     \u001b[38;5;28;01mif\u001b[39;00m status\u001b[38;5;241m.\u001b[39mcode \u001b[38;5;241m!=\u001b[39m \u001b[38;5;241m0\u001b[39m \u001b[38;5;129;01mor\u001b[39;00m status\u001b[38;5;241m.\u001b[39merror_code \u001b[38;5;241m!=\u001b[39m \u001b[38;5;241m0\u001b[39m:\n\u001b[0;32m---> 63\u001b[0m         \u001b[38;5;28;01mraise\u001b[39;00m MilvusException(status\u001b[38;5;241m.\u001b[39mcode, status\u001b[38;5;241m.\u001b[39mreason, status\u001b[38;5;241m.\u001b[39merror_code)\n",
      "\u001b[0;31mMilvusException\u001b[0m: <MilvusException: (code=100, message=: collection not found)>"
     ]
    }
   ],
   "source": [
    "res = client_0.query(\n",
    "    collection_name=\"create_eval_dataset_collections_hybrid\",\n",
    "    filter=\"id like \\'dfa3a46c000001%\\'\"\n",
    ")\n",
    "res"
   ]
  },
  {
   "cell_type": "code",
   "execution_count": 28,
   "id": "af8372fb-a1d1-4569-b4a0-005959aa75bf",
   "metadata": {},
   "outputs": [
    {
     "data": {
      "text/plain": [
       "{'id_': 'dfa3a46c00005418',\n",
       " 'embedding': None,\n",
       " 'metadata': {'file_path': '/Users/Zhiyuan/Project/rag_projects/my-web-novel/data/filter/凡人修仙传.txt',\n",
       "  'file_name': '凡人修仙传.txt',\n",
       "  'file_type': 'text/plain',\n",
       "  'file_size': 21688609,\n",
       "  'creation_date': '2024-12-11',\n",
       "  'last_modified_date': '2024-12-03'},\n",
       " 'excluded_embed_metadata_keys': ['file_name',\n",
       "  'file_type',\n",
       "  'file_size',\n",
       "  'creation_date',\n",
       "  'last_modified_date',\n",
       "  'last_accessed_date'],\n",
       " 'excluded_llm_metadata_keys': ['file_name',\n",
       "  'file_type',\n",
       "  'file_size',\n",
       "  'creation_date',\n",
       "  'last_modified_date',\n",
       "  'last_accessed_date'],\n",
       " 'relationships': {'1': {'node_id': 'ce9ce731-563f-4e7b-898f-dd1261ff6dc6',\n",
       "   'node_type': '4',\n",
       "   'metadata': {'file_path': '/Users/Zhiyuan/Project/rag_projects/my-web-novel/data/filter/凡人修仙传.txt',\n",
       "    'file_name': '凡人修仙传.txt',\n",
       "    'file_type': 'text/plain',\n",
       "    'file_size': 21688609,\n",
       "    'creation_date': '2024-12-11',\n",
       "    'last_modified_date': '2024-12-03'},\n",
       "   'hash': '25818d68f57097f0c3587128cfef0740855056f74da9846d6c0a615bc1ed6e40',\n",
       "   'class_name': 'RelatedNodeInfo'},\n",
       "  '2': {'node_id': 'dfa3a46c00005417',\n",
       "   'node_type': '1',\n",
       "   'metadata': {'file_path': '/Users/Zhiyuan/Project/rag_projects/my-web-novel/data/filter/凡人修仙传.txt',\n",
       "    'file_name': '凡人修仙传.txt',\n",
       "    'file_type': 'text/plain',\n",
       "    'file_size': 21688609,\n",
       "    'creation_date': '2024-12-11',\n",
       "    'last_modified_date': '2024-12-03'},\n",
       "   'hash': '67abf4fc0d3624f73edff4c6a9b4e3a65c3a7ea63682095e49443a50bf9a3441',\n",
       "   'class_name': 'RelatedNodeInfo'},\n",
       "  '3': {'node_id': 'dfa3a46c00005419',\n",
       "   'node_type': '1',\n",
       "   'metadata': {},\n",
       "   'hash': 'c859c5a5a96cf77b6b2f7d2a9b6610667f8c65c48016a1fca76bca9be67ad929',\n",
       "   'class_name': 'RelatedNodeInfo'}},\n",
       " 'metadata_template': '{key}: {value}',\n",
       " 'metadata_separator': '\\n',\n",
       " 'text': '结果，这几名修士在那迷雾中一困就是数年之久，手中宝物完全失效，最后不知怎么乱撞一通，才灰头灰脸的侥幸逃脱而出。\\n后来陆续又有几名自持神通的修士，进入了内谷，但遭遇的更加凄惨，有的直接在迷雾中葬身空间裂缝中，有的则被困更加的长久。\\n最长的一位，甚至在迷雾中一待就是五六十年光景。要不是内谷中并不缺乏灵气，可以随时随地的吸纳补充法力，这些人恐怕无一能生离谷中。\\n这些事情一一传开，自然让其他元婴修士骇然，再也没有谁敢轻言闯谷的事情了。\\n这般一来，坠魔谷内谷再次成为了天南修仙界的禁地，罕有人在谷口附近徘徊了。\\n随着岁月的流逝，时间一久，天南修士对内谷的迷雾渐渐习以为常。有些新进的修士，甚至以为谷中弥漫的白雾，原本就是坠魔谷天生的，无人再追究其产生的源头。\\n谁也不知道，内谷一处极其隐秘的山谷中，有一处依山坐落的小型洞府，通体用美玉炼制而成，裸露在山谷中。\\n而在洞府旁边，有一座看似普通的药园，只有百余丈之广而已。药园中种植着无数让外界修士为之疯狂的珍稀灵药。而这些灵药的年份，少则数百年，多则上千年的火候，散发着诱人的阵阵药香。\\n而小山谷附近，被人设下了玄妙的重重禁制，就是元婴级修士误入其中，也绝难以轻易脱身。\\n如今在药园正中间，有一间青石屋，屋中空荡荡的，除了一块蒲团外竟然任何东西都没有。\\n而蒲团上，一名修长的人影动也不动的盘坐在那里，仿佛木雕一般。\\n不知过了多久，这名人影一动，站起了身子，缓缓走出了石屋。\\n一出石门，在淡淡的阳光下，这人面容看得真真切切，这赫然正是“韩立”，但神色木然，丝毫表情没有。\\n“韩立”一步步的走到了药园的一角中，手一抓，竟从地下泥土中抓出一只绿色小瓶，然后再向药园另一处走去，在一株翠绿异常的藤蔓跟前停了下来，并将瓶中的一滴绿液滴在了藤蔓根部。',\n",
       " 'mimetype': 'text/plain',\n",
       " 'start_char_idx': 3574649,\n",
       " 'end_char_idx': 3575388,\n",
       " 'metadata_seperator': '\\n',\n",
       " 'text_template': '{metadata_str}\\n\\n{content}',\n",
       " 'class_name': 'TextNode'}"
      ]
     },
     "execution_count": 28,
     "metadata": {},
     "output_type": "execute_result"
    }
   ],
   "source": [
    "json.loads(res[8]['_node_content'])"
   ]
  },
  {
   "cell_type": "code",
   "execution_count": null,
   "id": "169ce39e-88ff-46ae-9cb4-146672867726",
   "metadata": {},
   "outputs": [],
   "source": []
  }
 ],
 "metadata": {
  "kernelspec": {
   "display_name": "Python 3 (ipykernel)",
   "language": "python",
   "name": "python3"
  },
  "language_info": {
   "codemirror_mode": {
    "name": "ipython",
    "version": 3
   },
   "file_extension": ".py",
   "mimetype": "text/x-python",
   "name": "python",
   "nbconvert_exporter": "python",
   "pygments_lexer": "ipython3",
   "version": "3.9.20"
  }
 },
 "nbformat": 4,
 "nbformat_minor": 5
}
